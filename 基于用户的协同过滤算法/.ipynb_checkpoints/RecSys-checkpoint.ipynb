{
 "cells": [
  {
   "cell_type": "code",
   "execution_count": 2,
   "metadata": {},
   "outputs": [],
   "source": [
    "def load_movielens(path='./ml-100k'):\n",
    "    # get movie titles\n",
    "    movies = {}\n",
    "    for line in open(path + '/u.item', encoding='latin-1'):\n",
    "        id, title = line.split('|')[0:2]\n",
    "        movies[id] = title\n",
    "    # load data\n",
    "    prefs = {}\n",
    "    for line in open(path + '/u.data', encoding='latin-1'):\n",
    "        user, movieid, rating, ts = line.split('\\t')\n",
    "        prefs.setdefault(user, {})\n",
    "        prefs[user][movies[movieid]] = float(rating)\n",
    "    return prefs\n",
    "\n",
    "def split_data(data, M, k, seed):\n",
    "    import random\n",
    "    test = []\n",
    "    train = []\n",
    "    random.seed(seed)\n",
    "    for user in data:\n",
    "        if random.randint(0, M) == k:\n",
    "            test.append([user, data[user]])\n",
    "        else:\n",
    "            train.append([user, data[user]])\n",
    "    return train, test"
   ]
  },
  {
   "cell_type": "code",
   "execution_count": 3,
   "metadata": {},
   "outputs": [],
   "source": [
    "def user_similarity(train):\n",
    "    import math\n",
    "\n",
    "    # 倒排表，物品 -> 用户\n",
    "    item_users = dict()\n",
    "    for u in train:\n",
    "        for i in u[1].keys():\n",
    "            if i not in item_users:\n",
    "                item_users[i] = set()\n",
    "            item_users[i].add(u[0])\n",
    "\n",
    "    # 计算用户的物品相似度\n",
    "    C = dict()\n",
    "    N = dict()\n",
    "    for i, users in item_users.items():\n",
    "        for u in users:\n",
    "            N.setdefault(u, 0)\n",
    "            N[u] += 1\n",
    "            for v in users:\n",
    "                if u == v:\n",
    "                    continue\n",
    "                C.setdefault(u, dict())\n",
    "                C[u].setdefault(v, 0)\n",
    "                C[u][v] += 1 / math.log(1 + len(users))\n",
    "\n",
    "    # 计算相似矩阵W\n",
    "    W = dict()\n",
    "    for u, related_users in C.items():\n",
    "        for v, cuv in related_users.items():\n",
    "            W.setdefault(u, dict())\n",
    "            W[u].setdefault(v, 0)\n",
    "            W[u][v] = cuv / math.sqrt(N[u] * N[v])\n",
    "    return W"
   ]
  },
  {
   "cell_type": "code",
   "execution_count": null,
   "metadata": {},
   "outputs": [],
   "source": []
  }
 ],
 "metadata": {
  "kernelspec": {
   "display_name": "Python 3",
   "language": "python",
   "name": "python3"
  },
  "language_info": {
   "codemirror_mode": {
    "name": "ipython",
    "version": 3
   },
   "file_extension": ".py",
   "mimetype": "text/x-python",
   "name": "python",
   "nbconvert_exporter": "python",
   "pygments_lexer": "ipython3",
   "version": "3.6.3"
  }
 },
 "nbformat": 4,
 "nbformat_minor": 2
}
