{
 "cells": [
  {
   "cell_type": "code",
   "execution_count": 1,
   "metadata": {},
   "outputs": [],
   "source": [
    "import numpy as np"
   ]
  },
  {
   "cell_type": "code",
   "execution_count": 2,
   "metadata": {},
   "outputs": [],
   "source": [
    "# 加载训练集、测试集数据（行为用户，列为物品，train[u][i]=rate，test同上）\n",
    "def load_movielens(path='./ml-100k', k=\"1\"):\n",
    "    # get movie titles\n",
    "    movies = {}\n",
    "    prefs_shape = []\n",
    "    for line in open(path + '/u.item', encoding='latin-1'):\n",
    "        id, title = line.split('|')[0:2]\n",
    "        movies[id] = title\n",
    "    # load data\n",
    "    for line in open(path + '/u.info', encoding='latin-1'):\n",
    "        prefs_shape.append(int(line.split(' ')[0:1][0]))\n",
    "    train = np.zeros(shape=prefs_shape[0:2], dtype=np.int)\n",
    "    test = np.zeros(shape=prefs_shape[0:2], dtype=np.int)\n",
    "    for line in open(path + '/u' + k + '.base', encoding='latin-1'):\n",
    "        user, movieid, rating, ts = line.split('\\t')\n",
    "        train[int(user)-1][int(movieid)-1] = int(rating)\n",
    "    for line in open(path + '/u' + k + '.test', encoding='latin-1'):\n",
    "        user, movieid, rating, ts = line.split('\\t')\n",
    "        test[int(user)-1][int(movieid)-1] = int(rating)\n",
    "    return train, test\n",
    "train, test = load_movielens()"
   ]
  },
  {
   "cell_type": "code",
   "execution_count": 3,
   "metadata": {},
   "outputs": [
    {
     "name": "stdout",
     "output_type": "stream",
     "text": [
      "[[ 0  6  3 ...,  7 14 35]\n",
      " [ 6  0  3 ...,  5  7  7]\n",
      " [ 3  3  0 ...,  2  4  1]\n",
      " ..., \n",
      " [ 7  5  2 ...,  0  4  5]\n",
      " [14  7  4 ...,  4  0 19]\n",
      " [35  7  1 ...,  5 19  0]]\n"
     ]
    },
    {
     "data": {
      "text/plain": [
       "array([[ 0.        ,  0.08164966,  0.048795  , ...,  0.12844577,\n",
       "         0.13556501,  0.23240556],\n",
       "       [ 0.08164966,  0.        ,  0.08964214, ...,  0.16854997,\n",
       "         0.12452441,  0.08539125],\n",
       "       [ 0.048795  ,  0.08964214,  0.        , ...,  0.0805823 ,\n",
       "         0.08504865,  0.0145803 ],\n",
       "       ..., \n",
       "       [ 0.12844577,  0.16854997,  0.0805823 , ...,  0.        ,\n",
       "         0.09594782,  0.08224396],\n",
       "       [ 0.13556501,  0.12452441,  0.08504865, ...,  0.09594782,\n",
       "         0.        ,  0.16492459],\n",
       "       [ 0.23240556,  0.08539125,  0.0145803 , ...,  0.08224396,\n",
       "         0.16492459,  0.        ]], dtype=float32)"
      ]
     },
     "execution_count": 3,
     "metadata": {},
     "output_type": "execute_result"
    }
   ],
   "source": [
    "# 建立用户相似度矩阵（行列皆为用户）\n",
    "def user_similarity(train):\n",
    "    import math\n",
    "    # 建立物品->用户倒排表（列为用户，行为物品的二阶矩阵）\n",
    "    train = train.T\n",
    "    # 建立用户相似兴趣数目的矩阵（行列皆为用户）\n",
    "    user_simil = np.zeros(shape=[943, 943], dtype=np.int)\n",
    "    for i in range(train.shape[0]):\n",
    "        for u1 in range(train.shape[1]):\n",
    "            for u2 in range(u1+1,train.shape[1]):\n",
    "                if train[i][u1] and train[i][u2]:\n",
    "                    user_simil[u1][u2] += 1\n",
    "    for u1 in range(train.shape[1]):\n",
    "        for u2 in range(u1+1,train.shape[1]):\n",
    "            user_simil[u2][u1] = user_simil[u1][u2]\n",
    "    # 由用户相似兴趣数目的矩阵得到用户的相似度矩阵（行列皆为用户）\n",
    "    u_similar = np.zeros(shape=[943, 943], dtype=np.float32)\n",
    "    for u1 in range(user_simil.shape[0]):\n",
    "        for u2 in range(user_simil.shape[0]):\n",
    "            if u1 != u2:\n",
    "                u_similar[u1][u2] = user_simil[u1][u2] / math.sqrt((train.T[u1]>0).sum() * (train.T[u2]>0).sum())\n",
    "    return u_similar\n",
    "w = user_similarity(train)"
   ]
  },
  {
   "cell_type": "code",
   "execution_count": 6,
   "metadata": {},
   "outputs": [],
   "source": [
    "# compare\n",
    "import math\n",
    "def cos_sim(x, y):\n",
    "\n",
    "    numerator = x * y.T  # x 和 y 之间的内积\n",
    "    a = len(numerator[(numerator>0)])  # 两行之间共同评分的电影个数\n",
    "    b = x * x.T\n",
    "    b = len(b[b>0])   # x行评分电影个数\n",
    "    c = y * y.T\n",
    "    c = len(c[c>0])   # y行电影评分个数\n",
    "    denominator = math.sqrt(b*c)\n",
    "    return (a / denominator)\n",
    "\n",
    "def similarity(data):\n",
    "    m = np.shape(data)[0]  # 用户的数量\n",
    "    # 初始化相似矩阵\n",
    "    w = np.mat(np.zeros((m, m)))\n",
    "\n",
    "    for i in range(m):\n",
    "        for j in range(i, m):\n",
    "            if not j == i:\n",
    "                # 计算任意两行之间的相似度\n",
    "                w[i, j] = cos_sim(data[i], data[j])\n",
    "                w[j, i] = w[i, j]\n",
    "            else:\n",
    "                w[i, j] = 0\n",
    "    return w\n",
    "w = similarity(train)"
   ]
  },
  {
   "cell_type": "code",
   "execution_count": 7,
   "metadata": {},
   "outputs": [],
   "source": [
    "# 基于用户相似性为用户 user 推荐物品\n",
    "def user_based_recommend(data, w, user):\n",
    "    \"\"\"基于用户相似性为用户 user 推荐物品\n",
    "\n",
    "    Args:\n",
    "    - data: mat, 用户物品矩阵\n",
    "    - w: mat, 用户之间的相似度\n",
    "    - user: int, 用户编号\n",
    "\n",
    "    :return: predict, list, 推荐列表\n",
    "    \"\"\"\n",
    "    m, n = np.shape(data)\n",
    "    interaction = data[int(user)]  # 获取用户user评分信息\n",
    "\n",
    "    # 找到用户user没互动过的物品加入not_inter\n",
    "    not_inter = []\n",
    "    for i in range(n):\n",
    "        if interaction[i] == 0:  # 没评分即为没互动\n",
    "            not_inter.append(i)\n",
    "    # 对没有互动过的物品进行预测\n",
    "    predict = {}\n",
    "    for x in not_inter:\n",
    "        item = np.copy(data[:, x])  # 找到所有用户对电影x的评分信息\n",
    "        for i in range(m):  # 对每一个用户\n",
    "            if item[i] != 0:\n",
    "                if x not in predict:\n",
    "                    predict[x] = w[int(user), i] * item[i]\n",
    "                else:\n",
    "                    predict[x] = predict[x] + w[int(user), i] + item[i]\n",
    "    return sorted(predict.items(), key=lambda d: d[1], reverse=True)\n",
    "\n",
    "def top_k(predict, n):\n",
    "    \"\"\"为用户推荐前 n 个物品\n",
    "\n",
    "    Args:\n",
    "    - predict: list, 排好序的物品列表\n",
    "    - k: int, 推荐的物品个数\n",
    "\n",
    "    :return: top_recom, list, top n 个物品\n",
    "    \"\"\"\n",
    "    top_recom = []\n",
    "    len_result = len(predict)\n",
    "    if n >= len_result:\n",
    "        top_recom = predict\n",
    "    else:\n",
    "        for i in range(n):\n",
    "            top_recom.append(predict[i])\n",
    "    return top_recom"
   ]
  },
  {
   "cell_type": "code",
   "execution_count": 8,
   "metadata": {},
   "outputs": [
    {
     "data": {
      "text/plain": [
       "0.028000000000000001"
      ]
     },
     "execution_count": 8,
     "metadata": {},
     "output_type": "execute_result"
    }
   ],
   "source": [
    "def recall(train, test, w):\n",
    "    # 由于电脑性能限制，一个用户只推荐排名靠前的5部电影\n",
    "    hit = 0\n",
    "    all = 0\n",
    "    for u in range(train.shape[0]):\n",
    "        tu = test[u]\n",
    "        predict = user_based_recommend(train, w, u)\n",
    "        T = (tu>0).sum()\n",
    "        pre_tu = top_k(predict, 5)\n",
    "        for item, _ in pre_tu:\n",
    "            if item in tu:\n",
    "                hit += 1\n",
    "        all += T        \n",
    "    return hit / (all * 1.0)\n",
    "recall(train, test, w)"
   ]
  },
  {
   "cell_type": "code",
   "execution_count": 9,
   "metadata": {},
   "outputs": [
    {
     "data": {
      "text/plain": [
       "0.11876988335100742"
      ]
     },
     "execution_count": 9,
     "metadata": {},
     "output_type": "execute_result"
    }
   ],
   "source": [
    "def precision(train, test, w):\n",
    "    hit = 0\n",
    "    all = 0\n",
    "    for u in range(train.shape[0]):\n",
    "        tu = test[u]\n",
    "        predict = user_based_recommend(train, w, u)\n",
    "        pre_tu = top_k(predict, 5)\n",
    "        for item, _ in pre_tu:\n",
    "            if item in tu:\n",
    "                hit += 1\n",
    "        all += 5\n",
    "    return hit / (all * 1.0)\n",
    "precision(train, test, w)"
   ]
  },
  {
   "cell_type": "code",
   "execution_count": 11,
   "metadata": {},
   "outputs": [
    {
     "data": {
      "text/plain": [
       "0.029726516052318668"
      ]
     },
     "execution_count": 11,
     "metadata": {},
     "output_type": "execute_result"
    }
   ],
   "source": [
    "def coverage(train, test, w):\n",
    "    recommend_items = set()\n",
    "    all_items = set()\n",
    "    for u in range(train.shape[0]):\n",
    "        for i in range(train.shape[1]):\n",
    "            all_items.add(i)\n",
    "        predict = user_based_recommend(train, w, u)\n",
    "        pre_tu = top_k(predict, 5)\n",
    "        for item, _ in pre_tu:\n",
    "            recommend_items.add(item)\n",
    "    return len(recommend_items) / (len(all_items) * 1.0)\n",
    "coverage(train, test, w)"
   ]
  },
  {
   "cell_type": "code",
   "execution_count": 13,
   "metadata": {},
   "outputs": [
    {
     "data": {
      "text/plain": [
       "0.6931471805599841"
      ]
     },
     "execution_count": 13,
     "metadata": {},
     "output_type": "execute_result"
    }
   ],
   "source": [
    "def popularity(train, test, w):\n",
    "    item_popularity = dict()\n",
    "    for i in range(train.shape[1]):\n",
    "        if i not in item_popularity:\n",
    "            item_popularity.setdefault(i, 0)\n",
    "        item_popularity[i] += 1\n",
    "    ret = 0\n",
    "    n = 0\n",
    "    for u in range(train.shape[0]):\n",
    "        predict = user_based_recommend(train, w, u)\n",
    "        pre_tu = top_k(predict, 5)\n",
    "        for item, _ in pre_tu:\n",
    "            ret += math.log(1 + item_popularity[item])\n",
    "            n += 1\n",
    "    ret /= n * 1.0\n",
    "    return ret\n",
    "popularity(train, test, w)"
   ]
  },
  {
   "cell_type": "code",
   "execution_count": null,
   "metadata": {},
   "outputs": [],
   "source": []
  }
 ],
 "metadata": {
  "kernelspec": {
   "display_name": "Python 3",
   "language": "python",
   "name": "python3"
  },
  "language_info": {
   "codemirror_mode": {
    "name": "ipython",
    "version": 3
   },
   "file_extension": ".py",
   "mimetype": "text/x-python",
   "name": "python",
   "nbconvert_exporter": "python",
   "pygments_lexer": "ipython3",
   "version": "3.6.3"
  }
 },
 "nbformat": 4,
 "nbformat_minor": 2
}
