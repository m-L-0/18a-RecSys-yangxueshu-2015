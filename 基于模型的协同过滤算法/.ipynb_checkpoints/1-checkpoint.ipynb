{
 "cells": [
  {
   "cell_type": "code",
   "execution_count": 1,
   "metadata": {},
   "outputs": [],
   "source": [
    "import numpy as np"
   ]
  },
  {
   "cell_type": "code",
   "execution_count": 2,
   "metadata": {},
   "outputs": [],
   "source": [
    "# 加载训练集、测试集数据（行为用户，列为物品，train[u][i]=rate，test同上）\n",
    "def load_movielens(path='./ml-100k', k=\"1\"):\n",
    "    # get movie titles\n",
    "    movies = {}\n",
    "    prefs_shape = []\n",
    "    for line in open(path + '/u.item', encoding='latin-1'):\n",
    "        id, title = line.split('|')[0:2]\n",
    "        movies[id] = title\n",
    "    # load data\n",
    "    for line in open(path + '/u.info', encoding='latin-1'):\n",
    "        prefs_shape.append(int(line.split(' ')[0:1][0]))\n",
    "    train = np.zeros(shape=prefs_shape[0:2], dtype=np.int)\n",
    "    test = np.zeros(shape=prefs_shape[0:2], dtype=np.int)\n",
    "    for line in open(path + '/u' + k + '.base', encoding='latin-1'):\n",
    "        user, movieid, rating, ts = line.split('\\t')\n",
    "        train[int(user)-1][int(movieid)-1] = int(rating)\n",
    "    for line in open(path + '/u' + k + '.test', encoding='latin-1'):\n",
    "        user, movieid, rating, ts = line.split('\\t')\n",
    "        test[int(user)-1][int(movieid)-1] = int(rating)\n",
    "    return train, test\n",
    "train, test = load_movielens()"
   ]
  },
  {
   "cell_type": "code",
   "execution_count": 3,
   "metadata": {},
   "outputs": [
    {
     "name": "stdout",
     "output_type": "stream",
     "text": [
      "\titer: 0, loss: 3.589965\n",
      "\titer: 1, loss: 3.284579\n",
      "\titer: 2, loss: 2.985988\n",
      "\titer: 3, loss: 2.698977\n",
      "\titer: 4, loss: 2.428030\n",
      "\titer: 5, loss: 2.176917\n",
      "\titer: 6, loss: 1.948366\n",
      "\titer: 7, loss: 1.743879\n",
      "\titer: 8, loss: 1.563737\n",
      "\titer: 9, loss: 1.407157\n"
     ]
    }
   ],
   "source": [
    "def sgd(data_matrix, k, alpha, lam, max_cycles):\n",
    "    \"\"\"使用梯度下降法进行矩阵分解。\n",
    "\n",
    "    Args:\n",
    "    - data_matrix: mat, 用户物品矩阵\n",
    "    - k: int, 分解矩阵的参数\n",
    "    - alpha: float, 学习率\n",
    "    - lam: float, 正则化参数\n",
    "    - max_cycles: int, 最大迭代次数\n",
    "\n",
    "    Returns:\n",
    "    p,q: mat, 分解后的矩阵\n",
    "    \"\"\"\n",
    "    m, n = np.shape(data_matrix)\n",
    "    # initiate p & q\n",
    "    p = np.mat(np.random.random((m, k)))\n",
    "    q = np.mat(np.random.random((k, n)))\n",
    "\n",
    "    # start training\n",
    "    for step in range(max_cycles):\n",
    "        for i in range(m):\n",
    "            for j in range(n):\n",
    "                if data_matrix[i, j] > 0:\n",
    "                    error = data_matrix[i, j]\n",
    "                    for r in range(k):\n",
    "                        error = error - p[i, r] * q[r, j]\n",
    "                    for r in range(k):\n",
    "                        p[i, r] = p[i, r] + alpha * (2 * error * q[r, j] - lam * p[i, r])\n",
    "                        q[r, j] = q[r, j] + alpha * (2 * error * p[i, r] - lam * q[r, j])\n",
    "\n",
    "        loss = 0.0\n",
    "        for i in range(m):\n",
    "            for j in range(n):\n",
    "                if data_matrix[i, j] > 0:\n",
    "                    error = 0.0\n",
    "                    for r in range(k):\n",
    "                        error = error + p[i, r] * q[r, j]\n",
    "                    # calculate loss function\n",
    "                    loss = (data_matrix[i, j] - error) * (data_matrix[i, j] - error)\n",
    "                    for r in range(k):\n",
    "                        loss = loss + lam * (p[i, r] * p[i, r] + q[r, j] * q[r, j]) / 2\n",
    "\n",
    "        if loss < 0.001:\n",
    "            break\n",
    "        if step % 1 == 0:\n",
    "            print(\"\\titer: %d, loss: %f\" % (step, loss))\n",
    "    return p, q\n",
    "p,q=sgd(train, 2, 1e-4, 0.01, 10)"
   ]
  },
  {
   "cell_type": "code",
   "execution_count": 13,
   "metadata": {},
   "outputs": [],
   "source": [
    "# 基于矩阵分解为用户 user 推荐物品\n",
    "def prediction(data_matrix, p, q, user):\n",
    "    \"\"\"为用户未互动的项打分\n",
    "\n",
    "    Args:\n",
    "    - data_matrix: mat, 原始用户物品矩阵\n",
    "    - p: mat, 分解后的矩阵p\n",
    "    - q: mat, 分解后的矩阵q\n",
    "    - user: int, 用户的id\n",
    "\n",
    "    Returns:\n",
    "    - predict: list, 推荐列表\n",
    "    \"\"\"\n",
    "    n = np.shape(data_matrix)[1]\n",
    "    predict = {}\n",
    "    for j in range(n):\n",
    "        if data_matrix[user, j] == 0:\n",
    "            predict[j] = (p[user,] * q[:, j])[0, 0]\n",
    "\n",
    "    # 按照打分从大到小排序\n",
    "    return sorted(predict.items(), key=lambda d: d[1], reverse=True)\n",
    "\n",
    "def top_k(predict, n):\n",
    "    \"\"\"为用户推荐前 n 个物品\n",
    "\n",
    "    Args:\n",
    "    - predict: list, 排好序的物品列表\n",
    "    - k: int, 推荐的物品个数\n",
    "\n",
    "    :return: top_recom, list, top n 个物品\n",
    "    \"\"\"\n",
    "    top_recom = []\n",
    "    len_result = len(predict)\n",
    "    if n >= len_result:\n",
    "        top_recom = predict\n",
    "    else:\n",
    "        for i in range(n):\n",
    "            top_recom.append(predict[i])\n",
    "    return top_recom"
   ]
  },
  {
   "cell_type": "code",
   "execution_count": 14,
   "metadata": {},
   "outputs": [
    {
     "data": {
      "text/plain": [
       "0.0172"
      ]
     },
     "execution_count": 14,
     "metadata": {},
     "output_type": "execute_result"
    }
   ],
   "source": [
    "def recall(train, test, p, q):\n",
    "    hit = 0\n",
    "    all = 0\n",
    "    for u in range(train.shape[0]):\n",
    "        tu = test[u]\n",
    "        predict = prediction(train, p, q, u)\n",
    "        T = (tu>0).sum()\n",
    "        pre_tu = top_k(predict, 5)\n",
    "        for item, _ in pre_tu:\n",
    "            if item in tu:\n",
    "                hit += 1\n",
    "        all += T        \n",
    "    return hit / (all * 1.0)\n",
    "recall(train, test, p, q)"
   ]
  },
  {
   "cell_type": "code",
   "execution_count": 15,
   "metadata": {},
   "outputs": [
    {
     "data": {
      "text/plain": [
       "0.07295864262990456"
      ]
     },
     "execution_count": 15,
     "metadata": {},
     "output_type": "execute_result"
    }
   ],
   "source": [
    "def precision(train, test, p, q):\n",
    "    hit = 0\n",
    "    all = 0\n",
    "    for u in range(train.shape[0]):\n",
    "        tu = test[u]\n",
    "        predict = prediction(train, p, q, u)\n",
    "        pre_tu = top_k(predict, 5)\n",
    "        for item, _ in pre_tu:\n",
    "            if item in tu:\n",
    "                hit += 1\n",
    "        all += 5\n",
    "    return hit / (all * 1.0)\n",
    "precision(train, test, p, q)"
   ]
  },
  {
   "cell_type": "code",
   "execution_count": 17,
   "metadata": {},
   "outputs": [
    {
     "data": {
      "text/plain": [
       "0.028537455410225922"
      ]
     },
     "execution_count": 17,
     "metadata": {},
     "output_type": "execute_result"
    }
   ],
   "source": [
    "def coverage(train, test, p, q):\n",
    "    recommend_items = set()\n",
    "    all_items = set()\n",
    "    for u in range(train.shape[0]):\n",
    "        for i in range(train.shape[1]):\n",
    "            all_items.add(i)\n",
    "        predict = prediction(train, p, q, u)\n",
    "        pre_tu = top_k(predict, 5)\n",
    "        for item, _ in pre_tu:\n",
    "            recommend_items.add(item)\n",
    "    return len(recommend_items) / (len(all_items) * 1.0)\n",
    "coverage(train, test, p, q)"
   ]
  },
  {
   "cell_type": "code",
   "execution_count": 19,
   "metadata": {},
   "outputs": [
    {
     "data": {
      "text/plain": [
       "0.6931471805599841"
      ]
     },
     "execution_count": 19,
     "metadata": {},
     "output_type": "execute_result"
    }
   ],
   "source": [
    "def popularity(train, test, p, q):\n",
    "    import math\n",
    "    item_popularity = dict()\n",
    "    for i in range(train.shape[1]):\n",
    "        if i not in item_popularity:\n",
    "            item_popularity.setdefault(i, 0)\n",
    "        item_popularity[i] += 1\n",
    "    ret = 0\n",
    "    n = 0\n",
    "    for u in range(train.shape[0]):\n",
    "        predict = prediction(train, p, q, u)\n",
    "        pre_tu = top_k(predict, 5)\n",
    "        for item, _ in pre_tu:\n",
    "            ret += math.log(1 + item_popularity[item])\n",
    "            n += 1\n",
    "    ret /= n * 1.0\n",
    "    return ret\n",
    "popularity(train, test, p, q)"
   ]
  },
  {
   "cell_type": "code",
   "execution_count": null,
   "metadata": {},
   "outputs": [],
   "source": []
  }
 ],
 "metadata": {
  "kernelspec": {
   "display_name": "Python 3",
   "language": "python",
   "name": "python3"
  },
  "language_info": {
   "codemirror_mode": {
    "name": "ipython",
    "version": 3
   },
   "file_extension": ".py",
   "mimetype": "text/x-python",
   "name": "python",
   "nbconvert_exporter": "python",
   "pygments_lexer": "ipython3",
   "version": "3.6.3"
  }
 },
 "nbformat": 4,
 "nbformat_minor": 2
}
