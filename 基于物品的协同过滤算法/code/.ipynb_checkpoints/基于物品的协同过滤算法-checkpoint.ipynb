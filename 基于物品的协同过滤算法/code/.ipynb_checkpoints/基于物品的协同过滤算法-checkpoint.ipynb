{
 "cells": [
  {
   "cell_type": "code",
   "execution_count": 1,
   "metadata": {},
   "outputs": [],
   "source": [
    "import numpy as np"
   ]
  },
  {
   "cell_type": "code",
   "execution_count": 2,
   "metadata": {},
   "outputs": [],
   "source": [
    "# 加载训练集、测试集数据（行为用户，列为物品，train[u][i]=rate，test同上）\n",
    "def load_movielens(path='../ml-100k', k=\"1\"):\n",
    "    # get movie titles\n",
    "    movies = {}\n",
    "    prefs_shape = []\n",
    "    for line in open(path + '/u.item', encoding='latin-1'):\n",
    "        id, title = line.split('|')[0:2]\n",
    "        movies[id] = title\n",
    "    # load data\n",
    "    for line in open(path + '/u.info', encoding='latin-1'):\n",
    "        prefs_shape.append(int(line.split(' ')[0:1][0]))\n",
    "    train = np.zeros(shape=prefs_shape[0:2], dtype=np.int)\n",
    "    test = np.zeros(shape=prefs_shape[0:2], dtype=np.int)\n",
    "    for line in open(path + '/u' + k + '.base', encoding='latin-1'):\n",
    "        user, movieid, rating, ts = line.split('\\t')\n",
    "        train[int(user)-1][int(movieid)-1] = int(rating)\n",
    "    for line in open(path + '/u' + k + '.test', encoding='latin-1'):\n",
    "        user, movieid, rating, ts = line.split('\\t')\n",
    "        test[int(user)-1][int(movieid)-1] = int(rating)\n",
    "    return train, test\n",
    "train, test = load_movielens()"
   ]
  },
  {
   "cell_type": "code",
   "execution_count": 3,
   "metadata": {},
   "outputs": [
    {
     "name": "stderr",
     "output_type": "stream",
     "text": [
      "/home/aa/targetDirectory/lib/python3.6/site-packages/ipykernel_launcher.py:19: RuntimeWarning: invalid value encountered in true_divide\n"
     ]
    }
   ],
   "source": [
    "# 建立物品相似度矩阵（行列皆为物品）\n",
    "def item_similarity(train):\n",
    "    import math\n",
    "    # 建立物品相似数目的矩阵（行列皆为物品）\n",
    "    item_simil = np.zeros(shape=[1682, 1682], dtype=np.int)\n",
    "    for u in range(train.shape[0]):\n",
    "        for i1 in range(train.shape[1]):\n",
    "            for i2 in range(i1+1,train.shape[1]):\n",
    "                if train[u][i1] and train[u][i2]:\n",
    "                    item_simil[i1][i2] += 1\n",
    "    for i1 in range(train.shape[1]):\n",
    "        for i2 in range(i1+1,train.shape[1]):\n",
    "            item_simil[i2][i1] = item_simil[i1][i2]\n",
    "    # 由物品相似数目的矩阵得到物品的相似度矩阵（行列皆为物品）\n",
    "    i_similar = np.zeros(shape=[1682, 1682], dtype=np.float32)\n",
    "    for i1 in range(item_simil.shape[1]):\n",
    "        for i2 in range(item_simil.shape[1]):\n",
    "            if i1 != i2:\n",
    "                i_similar[i1][i2] = item_simil[i1][i2] / math.sqrt((train.T[i1]>0).sum() * (train.T[i2]>0).sum())\n",
    "    return i_similar\n",
    "w = item_similarity(train)"
   ]
  },
  {
   "cell_type": "code",
   "execution_count": 4,
   "metadata": {},
   "outputs": [
    {
     "name": "stdout",
     "output_type": "stream",
     "text": [
      "[[ 0.          0.36900961  0.35401464 ...,  0.          0.05109761\n",
      "   0.05109761]\n",
      " [ 0.36900961  0.          0.24791192 ...,  0.          0.09759001\n",
      "   0.09759001]\n",
      " [ 0.35401464  0.24791192  0.         ...,  0.          0.          0.11547005]\n",
      " ..., \n",
      " [ 0.          0.          0.         ...,  0.          0.          0.        ]\n",
      " [ 0.05109761  0.09759001  0.         ...,  0.          0.          0.        ]\n",
      " [ 0.05109761  0.09759001  0.11547005 ...,  0.          0.          0.        ]]\n"
     ]
    }
   ],
   "source": [
    "print(w)"
   ]
  },
  {
   "cell_type": "code",
   "execution_count": 5,
   "metadata": {},
   "outputs": [],
   "source": [
    "# 基于物品相似性为用户 user 推荐物品\n",
    "def user_based_recommend(data, w, user):\n",
    "    \"\"\"基于物品相似性为用户 user 推荐物品\n",
    "\n",
    "    Args:\n",
    "    - data: mat, 物品用户矩阵\n",
    "    - w: mat, 用户之间的相似度\n",
    "    - user: int, 用户编号\n",
    "\n",
    "    :return: predict, list, 推荐列表\n",
    "    \"\"\"\n",
    "    m, n = np.shape(data)\n",
    "    interaction = data[int(user)].T  # 获取用户user评分信息\n",
    "\n",
    "    # 找到用户user没互动过的物品加入not_inter\n",
    "    not_inter = []\n",
    "    for i in range(n):\n",
    "        if interaction[i] == 0:  # 没评分即为没互动\n",
    "            not_inter.append(i)\n",
    "    # 对没有互动过的物品进行预测\n",
    "    predict = {}\n",
    "    for x in not_inter:\n",
    "        item = np.copy(data[:, x])  # 找到所有用户对电影x的评分信息\n",
    "        for i in range(m):  # 对每一个用户\n",
    "            if item[i] != 0:\n",
    "                if x not in predict:\n",
    "                    predict[x] = w[int(user), i] * item[i]\n",
    "                else:\n",
    "                    predict[x] = predict[x] + w[int(user), i] + item[i]\n",
    "    return sorted(predict.items(), key=lambda d: d[1], reverse=True)\n",
    "\n",
    "def top_k(predict, n):\n",
    "    \"\"\"为用户推荐前 n 个物品\n",
    "\n",
    "    Args:\n",
    "    - predict: list, 排好序的物品列表\n",
    "    - k: int, 推荐的物品个数\n",
    "\n",
    "    :return: top_recom, list, top n 个物品\n",
    "    \"\"\"\n",
    "    top_recom = []\n",
    "    len_result = len(predict)\n",
    "    if n >= len_result:\n",
    "        top_recom = predict\n",
    "    else:\n",
    "        for i in range(n):\n",
    "            top_recom.append(predict[i])\n",
    "    return top_recom"
   ]
  },
  {
   "cell_type": "code",
   "execution_count": 6,
   "metadata": {},
   "outputs": [
    {
     "data": {
      "text/plain": [
       "0.073249999999999996"
      ]
     },
     "execution_count": 6,
     "metadata": {},
     "output_type": "execute_result"
    }
   ],
   "source": [
    "def recall(train, test, w):\n",
    "    hit = 0\n",
    "    all = 0\n",
    "    for u in range(train.shape[0]):\n",
    "        tu = test[u]\n",
    "        predict = user_based_recommend(train, w, u)\n",
    "        T = (tu>0).sum()\n",
    "        pre_tu = top_k(predict, 5)\n",
    "        for item, _ in pre_tu:\n",
    "            if item in tu:\n",
    "                hit += 1\n",
    "        all += T        \n",
    "    return hit / (all * 1.0)\n",
    "recall(train, test, w)"
   ]
  },
  {
   "cell_type": "code",
   "execution_count": 7,
   "metadata": {},
   "outputs": [
    {
     "data": {
      "text/plain": [
       "0.3107104984093319"
      ]
     },
     "execution_count": 7,
     "metadata": {},
     "output_type": "execute_result"
    }
   ],
   "source": [
    "def precision(train, test, w):\n",
    "    hit = 0\n",
    "    all = 0\n",
    "    for u in range(train.shape[0]):\n",
    "        tu = test[u]\n",
    "        predict = user_based_recommend(train, w, u)\n",
    "        pre_tu = top_k(predict, 5)\n",
    "        for item, _ in pre_tu:\n",
    "            if item in tu:\n",
    "                hit += 1\n",
    "        all += 5\n",
    "    return hit / (all * 1.0)\n",
    "precision(train, test, w)"
   ]
  },
  {
   "cell_type": "code",
   "execution_count": 8,
   "metadata": {},
   "outputs": [
    {
     "data": {
      "text/plain": [
       "0.03507728894173603"
      ]
     },
     "execution_count": 8,
     "metadata": {},
     "output_type": "execute_result"
    }
   ],
   "source": [
    "def coverage(train, test, w):\n",
    "    recommend_items = set()\n",
    "    all_items = set()\n",
    "    for u in range(train.shape[0]):\n",
    "        for i in range(train.shape[1]):\n",
    "            all_items.add(i)\n",
    "        predict = user_based_recommend(train, w, u)\n",
    "        pre_tu = top_k(predict, 5)\n",
    "        for item, _ in pre_tu:\n",
    "            recommend_items.add(item)\n",
    "    return len(recommend_items) / (len(all_items) * 1.0)\n",
    "coverage(train, test, w)"
   ]
  },
  {
   "cell_type": "code",
   "execution_count": 9,
   "metadata": {},
   "outputs": [
    {
     "data": {
      "text/plain": [
       "0.03507728894173603"
      ]
     },
     "execution_count": 9,
     "metadata": {},
     "output_type": "execute_result"
    }
   ],
   "source": [
    "def coverage(train, test, w):\n",
    "    recommend_items = set()\n",
    "    all_items = set()\n",
    "    for u in range(train.shape[0]):\n",
    "        for i in range(train.shape[1]):\n",
    "            all_items.add(i)\n",
    "        predict = user_based_recommend(train, w, u)\n",
    "        pre_tu = top_k(predict, 5)\n",
    "        for item, _ in pre_tu:\n",
    "            recommend_items.add(item)\n",
    "    return len(recommend_items) / (len(all_items) * 1.0)\n",
    "coverage(train, test, w)"
   ]
  },
  {
   "cell_type": "code",
   "execution_count": null,
   "metadata": {},
   "outputs": [],
   "source": []
  }
 ],
 "metadata": {
  "kernelspec": {
   "display_name": "Python 3",
   "language": "python",
   "name": "python3"
  },
  "language_info": {
   "codemirror_mode": {
    "name": "ipython",
    "version": 3
   },
   "file_extension": ".py",
   "mimetype": "text/x-python",
   "name": "python",
   "nbconvert_exporter": "python",
   "pygments_lexer": "ipython3",
   "version": "3.6.3"
  }
 },
 "nbformat": 4,
 "nbformat_minor": 2
}
